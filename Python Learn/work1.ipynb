{
 "cells": [
  {
   "cell_type": "code",
   "execution_count": 5,
   "metadata": {},
   "outputs": [
    {
     "name": "stdout",
     "output_type": "stream",
     "text": [
      "54.21F\n"
     ]
    }
   ],
   "source": [
    "#TempStr\n",
    "#请编写程序将用户输入华氏度(F)转换为摄氏度，或将输入的摄氏度(C)转换为华氏度。\n",
    "TempStr = input()\n",
    "if TempStr[-1] in ['f','F']:\n",
    "    C = (eval(TempStr[0:-1])-32)/1.8\n",
    "    print(\"{:.2f}C\".format(C))\n",
    "elif TempStr[-1] in ['C','c']:\n",
    "    F = 1.8*(eval(TempStr[0:-1]))+32\n",
    "    print(\"{:.2f}F\".format(F))\n",
    "else:\n",
    "    print(\"输入格式错误\")"
   ]
  }
 ],
 "metadata": {
  "kernelspec": {
   "display_name": "Python 3",
   "language": "python",
   "name": "python3"
  },
  "language_info": {
   "codemirror_mode": {
    "name": "ipython",
    "version": 3
   },
   "file_extension": ".py",
   "mimetype": "text/x-python",
   "name": "python",
   "nbconvert_exporter": "python",
   "pygments_lexer": "ipython3",
   "version": "3.12.4"
  }
 },
 "nbformat": 4,
 "nbformat_minor": 2
}
