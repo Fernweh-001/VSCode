{
 "cells": [
  {
   "cell_type": "code",
   "execution_count": null,
   "metadata": {},
   "outputs": [],
   "source": [
    "#TempStr\n",
    "#请编写程序将用户输入华氏度(F)转换为摄氏度，或将输入的摄氏度(C)转换为华氏度。\n",
    "TempStr = input()\n",
    "if TempStr[-1] in ['f','F']:\n",
    "    C = (eval(TempStr[0:-1])-32)/1.8\n",
    "    print(\"{:.2f}C\".format(C))\n",
    "elif TempStr[-1] in ['C','c']:\n",
    "    F = 1.8*(eval(TempStr[0:-1]))+32\n",
    "    print(\"{:.2f}F\".format(F))\n",
    "else:\n",
    "    print(\"输入格式错误\")"
   ]
  },
  {
   "cell_type": "code",
   "execution_count": null,
   "metadata": {},
   "outputs": [],
   "source": [
    "# 创建一个字典，存储数字和中文字符的映射关系\n",
    "num_in = {\n",
    "    '0': '零', '1': '一', '2': '二', '3': '三', '4': '四',\n",
    "    '5': '五', '6': '六', '7': '七', '8': '八', '9': '九'\n",
    "}\n",
    "\n",
    "# 获取用户输入的正整数\n",
    "num = input()\n",
    "\n",
    "# 将输入的数字逐个转换为中文字符并输出\n",
    "for digit in num:\n",
    "    print(num_in[digit], end='')\n"
   ]
  },
  {
   "cell_type": "code",
   "execution_count": null,
   "metadata": {},
   "outputs": [],
   "source": [
    "template = \"零一二三四五六七八九\"\n",
    "\n",
    "s = input()\n",
    "for c in s:\n",
    "    if c.isdigit():#确保输入的是数字\n",
    "        print(\"template[int(c)]\",end=\"\")\n",
    "    else:\n",
    "        print(c,end=\"\")"
   ]
  },
  {
   "cell_type": "code",
   "execution_count": null,
   "metadata": {},
   "outputs": [],
   "source": [
    "Money = input()\n",
    "if Money[0] in [\"R\"]:\n",
    "    M = Money[3:]/6.78\n",
    "    print(\"USD{:.2f}\".format(M))\n",
    "elif Money[0] in [\"U\"]:\n",
    "    R = Money[3:]*6.78\n",
    "    print(\"RMB{:.2f}\".format(R))\n",
    "else:\n",
    "    print()"
   ]
  },
  {
   "cell_type": "code",
   "execution_count": null,
   "metadata": {},
   "outputs": [],
   "source": [
    "s = input()\n",
    "print(\"{:.2f}\".format(eval(s)))"
   ]
  }
 ],
 "metadata": {
  "kernelspec": {
   "display_name": "Python 3",
   "language": "python",
   "name": "python3"
  },
  "language_info": {
   "codemirror_mode": {
    "name": "ipython",
    "version": 3
   },
   "file_extension": ".py",
   "mimetype": "text/x-python",
   "name": "python",
   "nbconvert_exporter": "python",
   "pygments_lexer": "ipython3",
   "version": "3.12.4"
  }
 },
 "nbformat": 4,
 "nbformat_minor": 2
}
