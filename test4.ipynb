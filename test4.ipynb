{
 "cells": [
  {
   "cell_type": "code",
   "execution_count": null,
   "metadata": {},
   "outputs": [],
   "source": [
    "guess = eval(input())\n",
    "print(\"猜{}了\".format(\"对\" if guess == 99 else \"错\"))"
   ]
  },
  {
   "cell_type": "code",
   "execution_count": null,
   "metadata": {},
   "outputs": [],
   "source": [
    "try:\n",
    "    num = eval(input(\"请输入一个整数\"))\n",
    "    print(num**2)\n",
    "except NameError:\n",
    "    print(\"请输入不是整数\")"
   ]
  },
  {
   "cell_type": "code",
   "execution_count": null,
   "metadata": {},
   "outputs": [],
   "source": [
    "#CaIBMIv3.py\n",
    "height,weight = eval(input(\"请输入身高（米）和体重\\（公斤）【逗号隔开】：\"))\n",
    "bmi = weight/pow(height,2)\n",
    "print(\"BMI 数值为:{:.2f}\".format(bmi))\n",
    "who,nat = \"\",\"\"\n",
    "if bmi <18.5:\n",
    "    who,nat = \"偏瘦\",\"偏瘦\"\n",
    "elif 18.5 <= bmi <24:\n",
    "    who,nat = \"正常\",\"正常\"\n",
    "elif 24 <=bmi <25:\n",
    "    who,nat = \"正常\",\"偏胖\"\n",
    "elif 25 <=bmi <28:\n",
    "    who,nat = \"偏胖\",\"偏胖\"\n",
    "elif 28 <=bmi <30:\n",
    "    who,nat = \"偏胖\",\"肥胖\"\n",
    "else:\n",
    "    who,nat = \"肥胖\",\"肥胖\"\n",
    "print(\"BMI指标为: 国际'{}',国内'{}'\".format(who,nat))"
   ]
  },
  {
   "cell_type": "code",
   "execution_count": null,
   "metadata": {},
   "outputs": [],
   "source": [
    "for c in \"PYTHON\":\n",
    "    if c == \"T\":\n",
    "        continue\n",
    "    print(c,end='')"
   ]
  },
  {
   "cell_type": "code",
   "execution_count": null,
   "metadata": {},
   "outputs": [],
   "source": [
    "for c in \"PYTHON\":\n",
    "    if c ==\"T\":\n",
    "        break\n",
    "    print(c,end='')"
   ]
  },
  {
   "cell_type": "code",
   "execution_count": null,
   "metadata": {},
   "outputs": [],
   "source": [
    "s = \"PYTHON\"\n",
    "while s != '':\n",
    "    for c in s:\n",
    "        print(c,end='')\n",
    "    s = s[:-1]"
   ]
  },
  {
   "cell_type": "code",
   "execution_count": null,
   "metadata": {},
   "outputs": [],
   "source": [
    "s = \"PYTHON\"\n",
    "while s != '':\n",
    "    for c in s:\n",
    "        if c == \"T\":\n",
    "            break\n",
    "        print(c,end='')\n",
    "    s = s[:-1]"
   ]
  },
  {
   "cell_type": "code",
   "execution_count": null,
   "metadata": {},
   "outputs": [],
   "source": [
    "for c in \"PYTHON\":\n",
    "    if c == 'T':\n",
    "        continue\n",
    "    print(c,end='')\n",
    "else:\n",
    "    print('正常退出')"
   ]
  },
  {
   "cell_type": "code",
   "execution_count": null,
   "metadata": {},
   "outputs": [],
   "source": [
    "for c in \"PYTHON\":\n",
    "    if c =='T':\n",
    "        break\n",
    "    print(c,end='')\n",
    "else:\n",
    "    print('正常退出')"
   ]
  },
  {
   "cell_type": "code",
   "execution_count": null,
   "metadata": {},
   "outputs": [],
   "source": [
    "#CalPiV1.py\n",
    "pi = 0\n",
    "N = 1000\n",
    "for k in range(N):\n",
    "    pi += 1/pow(16,k)*(4/(8*k+1) - 2/(8*k+4) - 1/(8*k+5) - 1/(8*k+6))\n",
    "print('圆周率值：{}'.format(pi))"
   ]
  },
  {
   "cell_type": "code",
   "execution_count": null,
   "metadata": {},
   "outputs": [],
   "source": [
    "#CallPiV2.py\n",
    "from random import random\n",
    "from time import perf_counter\n",
    "DARTS = 1000*1000\n",
    "hits = 0.0\n",
    "start = perf_counter()\n",
    "for i in range(1,DARTS + 1):\n",
    "    x,y = random(),random()\n",
    "    dist = pow(x ** 2 + y ** 2,0.5)\n",
    "    if dist <= 1.0:\n",
    "        hits += 1\n",
    "pi = 4 *(hits/DARTS)\n",
    "print('圆周率：{}'.format(pi))\n",
    "print('运行时间：{:.5f}s'.format(perf_counter() - start))"
   ]
  },
  {
   "cell_type": "code",
   "execution_count": null,
   "metadata": {},
   "outputs": [],
   "source": [
    "#BMI.py\n",
    "height,weight = eval(input())\n",
    "BMI = weight/pow(height,2)\n",
    "print('BMI数值为：{:.2f}'.format(BMI))\n",
    "ch = ''\n",
    "na = ''\n",
    "if BMI < 18.5:\n",
    "    ch = '偏瘦'\n",
    "    na = '偏瘦'\n",
    "elif 18.5 <= BMI < 24:\n",
    "    ch = '正常'\n",
    "    na = '正常'\n",
    "elif 24 <= BMI <25:\n",
    "    ch = '偏胖'\n",
    "    na = '正常'\n",
    "elif 25 <= BMI <28:\n",
    "    ch = '偏胖'\n",
    "    na = '偏胖'\n",
    "elif 28 <= BMI <30:\n",
    "    ch = '肥胖'\n",
    "    na = '偏胖'\n",
    "else:\n",
    "    ch = '肥胖'\n",
    "    na = '肥胖'\n",
    "print(\"BMI指标为：国际'{1}',国内'{0}'\".format(ch,na))\n",
    "\n"
   ]
  },
  {
   "cell_type": "code",
   "execution_count": null,
   "metadata": {},
   "outputs": [],
   "source": [
    "#求pi\n",
    "import random \n",
    "random.seed(123)\n",
    "num = eval(input())\n",
    "hit = 0\n",
    "for i in range(1,num + 1):\n",
    "    x,y = random.random(),random.random()\n",
    "    dis = pow(x**2 + y**2,0.5)\n",
    "    if dis <= 1.0:\n",
    "        hit =hit + 1\n",
    "pi = (hit/num)*4\n",
    "print('{:6f}'.format(pi))"
   ]
  },
  {
   "cell_type": "code",
   "execution_count": null,
   "metadata": {},
   "outputs": [],
   "source": [
    "#计算数学算式\n",
    "sum = 0\n",
    "for i in range(1,967):\n",
    "    if i % 2 == 0:\n",
    "        sum -= i\n",
    "    else:\n",
    "        sum += i\n",
    "print(sum)"
   ]
  },
  {
   "cell_type": "code",
   "execution_count": null,
   "metadata": {},
   "outputs": [],
   "source": [
    "#输出水仙花数\n",
    "shuixianhua_nums = []\n",
    "for i in range(100,1000):\n",
    "    num = str(i)\n",
    "    if eval(num[0]) ** 3 + eval(num[1]) ** 3 + eval(num[2]) ** 3 == i:\n",
    "        shuixianhua_nums.append(i)\n",
    "print(','.join(map(str,shuixianhua_nums)))"
   ]
  },
  {
   "cell_type": "code",
   "execution_count": null,
   "metadata": {},
   "outputs": [],
   "source": [
    "name_right = 'Kate'\n",
    "mima_right = 666666\n",
    "for i in range(3):\n",
    "    name_inlet = input()\n",
    "    mima_inlet = input()\n",
    "    if name_inlet == name_right and int(mima_inlet) == mima_right:\n",
    "        print('登陆成功!')\n",
    "        break\n",
    "else:\n",
    "    print('3次用户名或者密码均有误！退出程序。')\n"
   ]
  },
  {
   "cell_type": "code",
   "execution_count": null,
   "metadata": {},
   "outputs": [],
   "source": [
    "count = 0\n",
    "while count < 3:\n",
    "    name = input()\n",
    "    password = input()\n",
    "    if name == 'Kate' and password == '666666':\n",
    "        print('登陆成功！')\n",
    "        break\n",
    "else:\n",
    "    count += 1\n",
    "    if count == 3:\n",
    "        print('3次用户名或者密码均有误！退出程序。')"
   ]
  }
 ],
 "metadata": {
  "kernelspec": {
   "display_name": "myenv",
   "language": "python",
   "name": "python3"
  },
  "language_info": {
   "codemirror_mode": {
    "name": "ipython",
    "version": 3
   },
   "file_extension": ".py",
   "mimetype": "text/x-python",
   "name": "python",
   "nbconvert_exporter": "python",
   "pygments_lexer": "ipython3",
   "version": "3.12.4"
  }
 },
 "nbformat": 4,
 "nbformat_minor": 2
}
