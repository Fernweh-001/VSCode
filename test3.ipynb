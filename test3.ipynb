{
 "cells": [
  {
   "cell_type": "code",
   "execution_count": null,
   "metadata": {},
   "outputs": [],
   "source": [
    "weekStr = \"星期一星期二星期三星期四星期五星期六星期日\"\n",
    "weekId = eval(input(\"请输入星期数字（1-7）： \"))\n",
    "pos = (weekId -1) * 3\n",
    "print(weekStr[pos:pos+3])"
   ]
  },
  {
   "cell_type": "code",
   "execution_count": null,
   "metadata": {},
   "outputs": [],
   "source": [
    "weekStr = \"一二三四五六七\"\n",
    "weekId = eval(input(\"输入一个数：\"))\n",
    "print(\"星期\"+weekStr[weekId-1])"
   ]
  },
  {
   "cell_type": "code",
   "execution_count": null,
   "metadata": {},
   "outputs": [],
   "source": [
    "#TextproBarV1.py\n",
    "import time\n",
    "for i in range(101):\n",
    "    print(\"\\r{:3}%\".format(i),end=\"\")\n",
    "    time.sleep(0.1)"
   ]
  },
  {
   "cell_type": "code",
   "execution_count": null,
   "metadata": {},
   "outputs": [],
   "source": [
    "#TextProBarV3.py\n",
    "import time\n",
    "scale = 50\n",
    "print(\"执行开始\".center(scale//2,\"-\"))\n",
    "start = time.perf_counter()\n",
    "for i in range(scale+1):\n",
    "    a = '*' * i\n",
    "    b = '.' * (scale - i)\n",
    "    c = pow(i+(1-i)*0.03,2)\n",
    "    dur = time.perf_counter()-start\n",
    "    print(\"\\r{:^3.0f}%[{}->{}]{:.2f}s\".format(c,a,b,dur),end='')\n",
    "    time.sleep(0.2)\n",
    "print(\"\\n\"+\"执行结束\".center(scale//2,'-'))"
   ]
  },
  {
   "cell_type": "code",
   "execution_count": null,
   "metadata": {},
   "outputs": [],
   "source": [
    "#TextProBarV2.py\n",
    "import time\n",
    "for i in range(101):\n",
    "    print(\"\\r{:3}%\".format(i),end=\"\")\n",
    "    time.sleep(0.1)"
   ]
  },
  {
   "cell_type": "code",
   "execution_count": null,
   "metadata": {},
   "outputs": [],
   "source": [
    "print(\"666\"*6)"
   ]
  },
  {
   "cell_type": "code",
   "execution_count": null,
   "metadata": {},
   "outputs": [],
   "source": [
    "#TexrProBarV3.py\n",
    "import time\n",
    "from tkinter import N\n",
    "scale = 50\n",
    "print(\"执行开始\".center(scale//2,\"-\"))\n",
    "start = time.perf_counter()\n",
    "for i in range(scale+1):\n",
    "    a = '*'*i\n",
    "    b = '.'*(scale-i)\n",
    "    c = int((i/scale)*100)\n",
    "    dur = time.perf_counter()-start\n",
    "    print(\"\\r{:>3}%[{}-<{}]{:.2f}s\".format(c,a,b,dur),end='')\n",
    "    time.sleep(0.1)\n",
    "print('')\n",
    "print(\"执行结束\".center(scale//2,'-'))\n"
   ]
  },
  {
   "cell_type": "code",
   "execution_count": null,
   "metadata": {},
   "outputs": [],
   "source": [
    "#DayDayUp\n",
    "def dayUP(df):\n",
    "    dayup = 1\n",
    "    for i in range(365):\n",
    "        if i % 7 in [6,0]:\n",
    "            dayup *= (1-0.01)\n",
    "        else:\n",
    "            dayup *= (1+dayfactor)\n",
    "    return dayup\n",
    "dayfactor = 0.01\n",
    "while dayUP(dayfactor) < pow(1.01,365):\n",
    "    dayfactor += 0.001\n",
    "print(\"最终的努力系数是{:.3f}\".format(dayfactor))"
   ]
  },
  {
   "cell_type": "code",
   "execution_count": null,
   "metadata": {},
   "outputs": [],
   "source": [
    "a = eval(input())\n",
    "a = pow(a,3)\n",
    "print(\"{:-^20.3f}\".format(a))"
   ]
  },
  {
   "cell_type": "code",
   "execution_count": null,
   "metadata": {},
   "outputs": [],
   "source": [
    "number = int(input(\"输入一个奇数:\"))\n",
    "for i in range(number):\n",
    "    if (i+1) % 2 != 0:\n",
    "        if (i+1) % 2 != 0:\n",
    "            photo = (i+1) * \"*\"\n",
    "            centered_photo = photo.center(number)\n",
    "            print(centered_photo)\n",
    "    else:\n",
    "        continue"
   ]
  },
  {
   "cell_type": "code",
   "execution_count": null,
   "metadata": {},
   "outputs": [],
   "source": [
    "import string\n",
    "input_str =  input()\n",
    "output_str = []\n",
    "lowercase_letters = \"abcdefghijklmnopqrstuvwxyz\"\n",
    "uppercase_letters = \"ABCDEFGHIJKLMNOPQRSTUVWXYZ\"\n",
    "for char in input_str:\n",
    "    if char in lowercase_letters:\n",
    "        encrypted_char = chr((ord(char)-ord('a')+3)%26+ord('a'))\n",
    "        output_str.append(encrypted_char)   \n",
    "    elif char in uppercase_letters:\n",
    "        encrypted_char = chr((ord(char)-ord('A')+3)%26+ord('A'))\n",
    "        output_str.append(encrypted_char)\n",
    "    else:\n",
    "        output_str.append(char)\n",
    "print(\"\".join(output_str))\n"
   ]
  },
  {
   "cell_type": "code",
   "execution_count": null,
   "metadata": {},
   "outputs": [],
   "source": [
    "import string\n",
    "\n",
    "input_str = input(\"请输入:\")\n",
    "output_str = []\n",
    "\n",
    "for char in input_str:\n",
    "    if char.isalpha():  # 检查是否为字母\n",
    "        if char.islower():\n",
    "            encrypted_char = chr((ord(char) - ord('a') + 3) % 26 + ord('a'))\n",
    "        else:\n",
    "            encrypted_char = chr((ord(char) - ord('A') + 3) % 26 + ord('A'))\n",
    "        output_str.append(encrypted_char)\n",
    "    else:\n",
    "        output_str.append(char)\n",
    "\n",
    "print(\"加密结果:\", ''.join(output_str))\n"
   ]
  }
 ],
 "metadata": {
  "kernelspec": {
   "display_name": "myenv",
   "language": "python",
   "name": "python3"
  },
  "language_info": {
   "codemirror_mode": {
    "name": "ipython",
    "version": 3
   },
   "file_extension": ".py",
   "mimetype": "text/x-python",
   "name": "python",
   "nbconvert_exporter": "python",
   "pygments_lexer": "ipython3",
   "version": "3.12.4"
  }
 },
 "nbformat": 4,
 "nbformat_minor": 2
}
